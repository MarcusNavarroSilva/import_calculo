{
 "cells": [
  {
   "cell_type": "markdown",
   "id": "be654c47",
   "metadata": {
    "id": "be654c47"
   },
   "source": [
    "# Exercícios de Funções em Python"
   ]
  },
  {
   "cell_type": "markdown",
   "id": "2551625e",
   "metadata": {
    "id": "2551625e"
   },
   "source": [
    "## Introdução ao uso de funções em Python. Funções são blocos de código que nos permitem organizar e reutilizar tarefas em nossos programas. Elas são uma parte fundamental da programação e nos ajudam a escrever código mais limpo, eficiente e modular.\n",
    "\n",
    "## Para praticar o que aprendemos, temos uma série de exercícios que envolvem o uso de funções básicas para realizar cálculos simples. \n",
    "\n",
    "## Vocês deverão CRIAR e CHAMAR funções que resolvam os problemas propostos. Lembre-se de usar nomes significativos para suas funções e variáveis, para que o código seja claro e compreensível."
   ]
  },
  {
   "cell_type": "markdown",
   "id": "08f7146e",
   "metadata": {
    "id": "08f7146e"
   },
   "source": [
    "## Exercício 1: Calcular a área de um retângulo\n",
    "### Situação Problema: Você está construindo um jardim retangular em sua casa. A largura do jardim é 5 metros e o comprimento é 8 metros. Qual é a área total do jardim?"
   ]
  },
  {
   "cell_type": "code",
   "execution_count": null,
   "id": "ae5991fe",
   "metadata": {
    "id": "ae5991fe"
   },
   "outputs": [],
   "source": [
    "#seu codigo aqui!\n",
    "\n",
    "\n"
   ]
  },
  {
   "cell_type": "markdown",
   "id": "97281d1e",
   "metadata": {
    "id": "97281d1e"
   },
   "source": [
    "## Exercício 2: Converter Celsius para Fahrenheit\n",
    "### Situação Problema: Você está em um país onde a temperatura é medida em Fahrenheit. A temperatura atual é 25 graus Celsius. Qual é a temperatura equivalente em Fahrenheit?"
   ]
  },
  {
   "cell_type": "code",
   "execution_count": null,
   "id": "542fb22f",
   "metadata": {
    "id": "542fb22f"
   },
   "outputs": [],
   "source": [
    "#seu codigo aqui!\n",
    "\n"
   ]
  },
  {
   "cell_type": "markdown",
   "id": "2482556d",
   "metadata": {
    "id": "2482556d"
   },
   "source": [
    "## Exercício 3: Calcular o perímetro de um quadrado\n",
    "### Situação Problema: Você está construindo um tapete quadrado para a sala de estar. Cada lado do tapete mede 3 metros. Qual é o perímetro total do tapete?"
   ]
  },
  {
   "cell_type": "code",
   "execution_count": null,
   "id": "8663622b",
   "metadata": {
    "id": "8663622b"
   },
   "outputs": [],
   "source": [
    "#seu codigo aqui!\n",
    "\n"
   ]
  },
  {
   "cell_type": "markdown",
   "id": "6566c32d",
   "metadata": {
    "id": "6566c32d"
   },
   "source": [
    "## Exercício 4: Calcular a média ponderada de três notas\n",
    "### Situação Problema: Você está estudando para três disciplinas diferentes. Suas notas são: 7.0 em Matemática, 8.5 em Ciências e 9.5 em História. Se a Matemática tem peso 2, Ciências tem peso 3 e História tem peso 5, qual é a sua média ponderada?\n",
    "\n"
   ]
  },
  {
   "cell_type": "code",
   "execution_count": null,
   "id": "47ffec72",
   "metadata": {
    "id": "47ffec72"
   },
   "outputs": [],
   "source": [
    "#seu codigo aqui!\n",
    "\n",
    "\n"
   ]
  },
  {
   "cell_type": "markdown",
   "id": "5cd84c49",
   "metadata": {
    "id": "5cd84c49"
   },
   "source": [
    "## Exercício 5: Converter quilômetros para milhas\n",
    "### Situação Problema: Você está planejando uma viagem de carro. O percurso tem 200 quilômetros de extensão. Qual é a distância equivalente em milhas?\n",
    "\n",
    "\n",
    "\n",
    "\n"
   ]
  },
  {
   "cell_type": "code",
   "execution_count": null,
   "id": "63d8b4bf",
   "metadata": {
    "id": "63d8b4bf"
   },
   "outputs": [],
   "source": [
    "#seu codigo aqui!\n",
    "\n",
    "\n"
   ]
  }
 ],
 "metadata": {
  "colab": {
   "provenance": []
  },
  "kernelspec": {
   "display_name": "Python 3",
   "language": "python",
   "name": "python3"
  },
  "language_info": {
   "codemirror_mode": {
    "name": "ipython",
    "version": 3
   },
   "file_extension": ".py",
   "mimetype": "text/x-python",
   "name": "python",
   "nbconvert_exporter": "python",
   "pygments_lexer": "ipython3",
   "version": "3.13.7"
  }
 },
 "nbformat": 4,
 "nbformat_minor": 5
}
